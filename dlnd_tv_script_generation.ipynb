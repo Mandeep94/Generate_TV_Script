{
 "cells": [
  {
   "cell_type": "markdown",
   "metadata": {
    "deletable": true,
    "editable": true
   },
   "source": [
    "# TV Script Generation\n",
    "In this project, you'll generate your own [Simpsons](https://en.wikipedia.org/wiki/The_Simpsons) TV scripts using RNNs.  You'll be using part of the [Simpsons dataset](https://www.kaggle.com/wcukierski/the-simpsons-by-the-data) of scripts from 27 seasons.  The Neural Network you'll build will generate a new TV script for a scene at [Moe's Tavern](https://simpsonswiki.com/wiki/Moe's_Tavern).\n",
    "## Get the Data\n",
    "The data is already provided for you.  You'll be using a subset of the original dataset.  It consists of only the scenes in Moe's Tavern.  This doesn't include other versions of the tavern, like \"Moe's Cavern\", \"Flaming Moe's\", \"Uncle Moe's Family Feed-Bag\", etc.."
   ]
  },
  {
   "cell_type": "code",
   "execution_count": null,
   "metadata": {
    "collapsed": false,
    "deletable": true,
    "editable": true
   },
   "outputs": [],
   "source": [
    "\"\"\"\n",
    "DON'T MODIFY ANYTHING IN THIS CELL\n",
    "\"\"\"\n",
    "import helper\n",
    "\n",
    "data_dir = './data/simpsons/moes_tavern_lines.txt'\n",
    "text = helper.load_data(data_dir)\n",
    "# Ignore notice, since we don't use it for analysing the data\n",
    "text = text[81:]"
   ]
  },
  {
   "cell_type": "markdown",
   "metadata": {
    "deletable": true,
    "editable": true
   },
   "source": [
    "## Explore the Data\n",
    "Play around with `view_sentence_range` to view different parts of the data."
   ]
  },
  {
   "cell_type": "code",
   "execution_count": null,
   "metadata": {
    "collapsed": false,
    "deletable": true,
    "editable": true
   },
   "outputs": [],
   "source": [
    "view_sentence_range = (0, 10)\n",
    "\n",
    "\"\"\"\n",
    "DON'T MODIFY ANYTHING IN THIS CELL\n",
    "\"\"\"\n",
    "import numpy as np\n",
    "\n",
    "print('Dataset Stats')\n",
    "print('Roughly the number of unique words: {}'.format(len({word: None for word in text.split()})))\n",
    "scenes = text.split('\\n\\n')\n",
    "print('Number of scenes: {}'.format(len(scenes)))\n",
    "sentence_count_scene = [scene.count('\\n') for scene in scenes]\n",
    "print('Average number of sentences in each scene: {}'.format(np.average(sentence_count_scene)))\n",
    "\n",
    "sentences = [sentence for scene in scenes for sentence in scene.split('\\n')]\n",
    "print('Number of lines: {}'.format(len(sentences)))\n",
    "word_count_sentence = [len(sentence.split()) for sentence in sentences]\n",
    "print('Average number of words in each line: {}'.format(np.average(word_count_sentence)))\n",
    "\n",
    "print()\n",
    "print('The sentences {} to {}:'.format(*view_sentence_range))\n",
    "print('\\n'.join(text.split('\\n')[view_sentence_range[0]:view_sentence_range[1]]))"
   ]
  },
  {
   "cell_type": "markdown",
   "metadata": {
    "deletable": true,
    "editable": true
   },
   "source": [
    "## Implement Preprocessing Functions\n",
    "The first thing to do to any dataset is preprocessing.  Implement the following preprocessing functions below:\n",
    "- Lookup Table\n",
    "- Tokenize Punctuation\n",
    "\n",
    "### Lookup Table\n",
    "To create a word embedding, you first need to transform the words to ids.  In this function, create two dictionaries:\n",
    "- Dictionary to go from the words to an id, we'll call `vocab_to_int`\n",
    "- Dictionary to go from the id to word, we'll call `int_to_vocab`\n",
    "\n",
    "Return these dictionaries in the following tuple `(vocab_to_int, int_to_vocab)`"
   ]
  },
  {
   "cell_type": "code",
   "execution_count": null,
   "metadata": {
    "collapsed": false,
    "deletable": true,
    "editable": true
   },
   "outputs": [],
   "source": [
    "import numpy as np\n",
    "import problem_unittests as tests\n",
    "\n",
    "def create_lookup_tables(text):\n",
    "    \"\"\"\n",
    "    Create lookup tables for vocabulary\n",
    "    :param text: The text of tv scripts split into words\n",
    "    :return: A tuple of dicts (vocab_to_int, int_to_vocab)\n",
    "    \"\"\"\n",
    "    # TODO: Implement Function\n",
    "    vocab = set(text)\n",
    "    vocab_to_int = {word:i for i, word in enumerate(vocab)}\n",
    "    int_to_vocab = {i:word for i, word in enumerate(vocab)}\n",
    "    return (vocab_to_int, int_to_vocab)\n",
    "\n",
    "\n",
    "\"\"\"\n",
    "DON'T MODIFY ANYTHING IN THIS CELL THAT IS BELOW THIS LINE\n",
    "\"\"\"\n",
    "tests.test_create_lookup_tables(create_lookup_tables)"
   ]
  },
  {
   "cell_type": "markdown",
   "metadata": {
    "deletable": true,
    "editable": true
   },
   "source": [
    "### Tokenize Punctuation\n",
    "We'll be splitting the script into a word array using spaces as delimiters.  However, punctuations like periods and exclamation marks make it hard for the neural network to distinguish between the word \"bye\" and \"bye!\".\n",
    "\n",
    "Implement the function `token_lookup` to return a dict that will be used to tokenize symbols like \"!\" into \"||Exclamation_Mark||\".  Create a dictionary for the following symbols where the symbol is the key and value is the token:\n",
    "- Period ( . )\n",
    "- Comma ( , )\n",
    "- Quotation Mark ( \" )\n",
    "- Semicolon ( ; )\n",
    "- Exclamation mark ( ! )\n",
    "- Question mark ( ? )\n",
    "- Left Parentheses ( ( )\n",
    "- Right Parentheses ( ) )\n",
    "- Dash ( -- )\n",
    "- Return ( \\n )\n",
    "\n",
    "This dictionary will be used to token the symbols and add the delimiter (space) around it.  This separates the symbols as it's own word, making it easier for the neural network to predict on the next word. Make sure you don't use a token that could be confused as a word. Instead of using the token \"dash\", try using something like \"||dash||\"."
   ]
  },
  {
   "cell_type": "code",
   "execution_count": null,
   "metadata": {
    "collapsed": false,
    "deletable": true,
    "editable": true
   },
   "outputs": [],
   "source": [
    "def token_lookup():\n",
    "    \"\"\"\n",
    "    Generate a dict to turn punctuation into a token.\n",
    "    :return: Tokenize dictionary where the key is the punctuation and the value is the token\n",
    "    \"\"\"\n",
    "    # TODO: Implement Function\n",
    "    punctuation = {\".\":\"||Period||\",\n",
    "                  \",\":\"||Comma||\",\n",
    "                  '\"':\"||QuotationMark||\",\n",
    "                  \";\":\"||Semicolon||\",\n",
    "                  \"!\":\"||ExclamationMark||\",\n",
    "                  \"?\":\"||QuestionMark||\",\n",
    "                  \"(\":\"||LeftParenthesis||\",\n",
    "                  \")\":\"||RightParenthesis||\",\n",
    "                  \"--\":\"||Dash||\",\n",
    "                  \"\\n\":\"||Return||\"}\n",
    "    return punctuation\n",
    "\n",
    "\"\"\"\n",
    "DON'T MODIFY ANYTHING IN THIS CELL THAT IS BELOW THIS LINE\n",
    "\"\"\"\n",
    "tests.test_tokenize(token_lookup)"
   ]
  },
  {
   "cell_type": "markdown",
   "metadata": {
    "deletable": true,
    "editable": true
   },
   "source": [
    "## Preprocess all the data and save it\n",
    "Running the code cell below will preprocess all the data and save it to file."
   ]
  },
  {
   "cell_type": "code",
   "execution_count": null,
   "metadata": {
    "collapsed": false,
    "deletable": true,
    "editable": true
   },
   "outputs": [],
   "source": [
    "\"\"\"\n",
    "DON'T MODIFY ANYTHING IN THIS CELL\n",
    "\"\"\"\n",
    "# Preprocess Training, Validation, and Testing Data\n",
    "helper.preprocess_and_save_data(data_dir, token_lookup, create_lookup_tables)"
   ]
  },
  {
   "cell_type": "markdown",
   "metadata": {
    "deletable": true,
    "editable": true
   },
   "source": [
    "# Check Point\n",
    "This is your first checkpoint. If you ever decide to come back to this notebook or have to restart the notebook, you can start from here. The preprocessed data has been saved to disk."
   ]
  },
  {
   "cell_type": "code",
   "execution_count": 1,
   "metadata": {
    "collapsed": false,
    "deletable": true,
    "editable": true
   },
   "outputs": [],
   "source": [
    "\"\"\"\n",
    "DON'T MODIFY ANYTHING IN THIS CELL\n",
    "\"\"\"\n",
    "import helper\n",
    "import numpy as np\n",
    "import problem_unittests as tests\n",
    "\n",
    "int_text, vocab_to_int, int_to_vocab, token_dict = helper.load_preprocess()"
   ]
  },
  {
   "cell_type": "markdown",
   "metadata": {
    "deletable": true,
    "editable": true
   },
   "source": [
    "## Build the Neural Network\n",
    "You'll build the components necessary to build a RNN by implementing the following functions below:\n",
    "- get_inputs\n",
    "- get_init_cell\n",
    "- get_embed\n",
    "- build_rnn\n",
    "- build_nn\n",
    "- get_batches\n",
    "\n",
    "### Check the Version of TensorFlow and Access to GPU"
   ]
  },
  {
   "cell_type": "code",
   "execution_count": 2,
   "metadata": {
    "collapsed": false,
    "deletable": true,
    "editable": true
   },
   "outputs": [
    {
     "name": "stdout",
     "output_type": "stream",
     "text": [
      "TensorFlow Version: 1.0.0\n"
     ]
    },
    {
     "name": "stderr",
     "output_type": "stream",
     "text": [
      "C:\\Users\\Shiv\\Anaconda3\\envs\\py35\\lib\\site-packages\\ipykernel\\__main__.py:14: UserWarning: No GPU found. Please use a GPU to train your neural network.\n"
     ]
    }
   ],
   "source": [
    "\"\"\"\n",
    "DON'T MODIFY ANYTHING IN THIS CELL\n",
    "\"\"\"\n",
    "from distutils.version import LooseVersion\n",
    "import warnings\n",
    "import tensorflow as tf\n",
    "\n",
    "# Check TensorFlow Version\n",
    "assert LooseVersion(tf.__version__) >= LooseVersion('1.0'), 'Please use TensorFlow version 1.0 or newer'\n",
    "print('TensorFlow Version: {}'.format(tf.__version__))\n",
    "\n",
    "# Check for a GPU\n",
    "if not tf.test.gpu_device_name():\n",
    "    warnings.warn('No GPU found. Please use a GPU to train your neural network.')\n",
    "else:\n",
    "    print('Default GPU Device: {}'.format(tf.test.gpu_device_name()))"
   ]
  },
  {
   "cell_type": "markdown",
   "metadata": {
    "deletable": true,
    "editable": true
   },
   "source": [
    "### Input\n",
    "Implement the `get_inputs()` function to create TF Placeholders for the Neural Network.  It should create the following placeholders:\n",
    "- Input text placeholder named \"input\" using the [TF Placeholder](https://www.tensorflow.org/api_docs/python/tf/placeholder) `name` parameter.\n",
    "- Targets placeholder\n",
    "- Learning Rate placeholder\n",
    "\n",
    "Return the placeholders in the following the tuple `(Input, Targets, LearingRate)`"
   ]
  },
  {
   "cell_type": "code",
   "execution_count": 3,
   "metadata": {
    "collapsed": false,
    "deletable": true,
    "editable": true
   },
   "outputs": [
    {
     "name": "stdout",
     "output_type": "stream",
     "text": [
      "Tests Passed\n"
     ]
    }
   ],
   "source": [
    "def get_inputs():\n",
    "    \"\"\"\n",
    "    Create TF Placeholders for input, targets, and learning rate.\n",
    "    :return: Tuple (input, targets, learning rate)\n",
    "    \"\"\"\n",
    "    # TODO: Implement Function\n",
    "    inputs = tf.placeholder(tf.int32,shape=[None, None], name=\"input\")\n",
    "    targets = tf.placeholder(tf.int32, shape=[None,None], name=\"targets\")\n",
    "    learning_rate = tf.placeholder(tf.float32, name=\"learning_rate\")\n",
    "    return (inputs, targets, learning_rate)\n",
    "\n",
    "\n",
    "\"\"\"\n",
    "DON'T MODIFY ANYTHING IN THIS CELL THAT IS BELOW THIS LINE\n",
    "\"\"\"\n",
    "tests.test_get_inputs(get_inputs)"
   ]
  },
  {
   "cell_type": "markdown",
   "metadata": {
    "deletable": true,
    "editable": true
   },
   "source": [
    "### Build RNN Cell and Initialize\n",
    "Stack one or more [`BasicLSTMCells`](https://www.tensorflow.org/api_docs/python/tf/contrib/rnn/BasicLSTMCell) in a [`MultiRNNCell`](https://www.tensorflow.org/api_docs/python/tf/contrib/rnn/MultiRNNCell).\n",
    "- The Rnn size should be set using `rnn_size`\n",
    "- Initalize Cell State using the MultiRNNCell's [`zero_state()`](https://www.tensorflow.org/api_docs/python/tf/contrib/rnn/MultiRNNCell#zero_state) function\n",
    "    - Apply the name \"initial_state\" to the initial state using [`tf.identity()`](https://www.tensorflow.org/api_docs/python/tf/identity)\n",
    "\n",
    "Return the cell and initial state in the following tuple `(Cell, InitialState)`"
   ]
  },
  {
   "cell_type": "code",
   "execution_count": 4,
   "metadata": {
    "collapsed": false,
    "deletable": true,
    "editable": true
   },
   "outputs": [
    {
     "name": "stdout",
     "output_type": "stream",
     "text": [
      "Tests Passed\n"
     ]
    }
   ],
   "source": [
    "def get_init_cell(batch_size, rnn_size):\n",
    "    \"\"\"\n",
    "    Create an RNN Cell and initialize it.\n",
    "    :param batch_size: Size of batches\n",
    "    :param rnn_size: Size of RNNs\n",
    "    :return: Tuple (cell, initialize state)\n",
    "    \"\"\"\n",
    "    # TODO: Implement Function\n",
    "    lstm = tf.contrib.rnn.BasicLSTMCell(rnn_size)\n",
    "    cell = tf.contrib.rnn.MultiRNNCell([lstm]*3)\n",
    "    \n",
    "    initial_state = tf.identity(cell.zero_state(batch_size, tf.float32), name=\"initial_state\")\n",
    "    \n",
    "    return (cell, initial_state)\n",
    "\n",
    "\n",
    "\"\"\"\n",
    "DON'T MODIFY ANYTHING IN THIS CELL THAT IS BELOW THIS LINE\n",
    "\"\"\"\n",
    "tests.test_get_init_cell(get_init_cell)"
   ]
  },
  {
   "cell_type": "markdown",
   "metadata": {
    "deletable": true,
    "editable": true
   },
   "source": [
    "### Word Embedding\n",
    "Apply embedding to `input_data` using TensorFlow.  Return the embedded sequence."
   ]
  },
  {
   "cell_type": "code",
   "execution_count": 5,
   "metadata": {
    "collapsed": false,
    "deletable": true,
    "editable": true
   },
   "outputs": [
    {
     "name": "stdout",
     "output_type": "stream",
     "text": [
      "Tests Passed\n"
     ]
    }
   ],
   "source": [
    "def get_embed(input_data, vocab_size, embed_dim):\n",
    "    \"\"\"\n",
    "    Create embedding for <input_data>.\n",
    "    :param input_data: TF placeholder for text input.\n",
    "    :param vocab_size: Number of words in vocabulary.\n",
    "    :param embed_dim: Number of embedding dimensions\n",
    "    :return: Embedded input.\n",
    "    \"\"\"\n",
    "    # TODO: Implement Function\n",
    "    embedding = tf.Variable(tf.random_uniform((vocab_size, embed_dim), -1, 1))\n",
    "    embedded_input = tf.nn.embedding_lookup(embedding, input_data)\n",
    "    return embedded_input\n",
    "\n",
    "\n",
    "\"\"\"\n",
    "DON'T MODIFY ANYTHING IN THIS CELL THAT IS BELOW THIS LINE\n",
    "\"\"\"\n",
    "tests.test_get_embed(get_embed)"
   ]
  },
  {
   "cell_type": "markdown",
   "metadata": {
    "deletable": true,
    "editable": true
   },
   "source": [
    "### Build RNN\n",
    "You created a RNN Cell in the `get_init_cell()` function.  Time to use the cell to create a RNN.\n",
    "- Build the RNN using the [`tf.nn.dynamic_rnn()`](https://www.tensorflow.org/api_docs/python/tf/nn/dynamic_rnn)\n",
    " - Apply the name \"final_state\" to the final state using [`tf.identity()`](https://www.tensorflow.org/api_docs/python/tf/identity)\n",
    "\n",
    "Return the outputs and final_state state in the following tuple `(Outputs, FinalState)` "
   ]
  },
  {
   "cell_type": "code",
   "execution_count": 6,
   "metadata": {
    "collapsed": false,
    "deletable": true,
    "editable": true
   },
   "outputs": [
    {
     "name": "stdout",
     "output_type": "stream",
     "text": [
      "Tests Passed\n"
     ]
    }
   ],
   "source": [
    "def build_rnn(cell, inputs):\n",
    "    \"\"\"\n",
    "    Create a RNN using a RNN Cell\n",
    "    :param cell: RNN Cell\n",
    "    :param inputs: Input text data\n",
    "    :return: Tuple (Outputs, Final State)\n",
    "    \"\"\"\n",
    "    # TODO: Implement Function\n",
    "    outputs, final_state = tf.nn.dynamic_rnn(cell, inputs=inputs, dtype=tf.float32)\n",
    "    final_state = tf.identity(final_state, name=\"final_state\")\n",
    "    return (outputs, final_state)\n",
    "\n",
    "\n",
    "\"\"\"\n",
    "DON'T MODIFY ANYTHING IN THIS CELL THAT IS BELOW THIS LINE\n",
    "\"\"\"\n",
    "tests.test_build_rnn(build_rnn)"
   ]
  },
  {
   "cell_type": "markdown",
   "metadata": {
    "deletable": true,
    "editable": true
   },
   "source": [
    "### Build the Neural Network\n",
    "Apply the functions you implemented above to:\n",
    "- Apply embedding to `input_data` using your `get_embed(input_data, vocab_size, embed_dim)` function.\n",
    "- Build RNN using `cell` and your `build_rnn(cell, inputs)` function.\n",
    "- Apply a fully connected layer with a linear activation and `vocab_size` as the number of outputs.\n",
    "\n",
    "Return the logits and final state in the following tuple (Logits, FinalState) "
   ]
  },
  {
   "cell_type": "code",
   "execution_count": 7,
   "metadata": {
    "collapsed": false,
    "deletable": true,
    "editable": true
   },
   "outputs": [
    {
     "name": "stdout",
     "output_type": "stream",
     "text": [
      "Tests Passed\n"
     ]
    }
   ],
   "source": [
    "def build_nn(cell, rnn_size, input_data, vocab_size):\n",
    "    \"\"\"\n",
    "    Build part of the neural network\n",
    "    :param cell: RNN cell\n",
    "    :param rnn_size: Size of rnns\n",
    "    :param input_data: Input data\n",
    "    :param vocab_size: Vocabulary size\n",
    "    :return: Tuple (Logits, FinalState)\n",
    "    \"\"\"\n",
    "    # TODO: Implement Function\n",
    "    embedding = get_embed(input_data, vocab_size, rnn_size)\n",
    "    outputs, final_state = build_rnn(cell, embedding)\n",
    "    weights_initializer = tf.truncated_normal_initializer(stddev=0.1)\n",
    "    biases = tf.zeros_initializer()\n",
    "    logits = tf.contrib.layers.fully_connected(outputs,num_outputs=vocab_size, weights_initializer=weights_initializer, biases_initializer=biases, activation_fn=None)\n",
    "    return (logits, final_state)\n",
    "\n",
    "\n",
    "\"\"\"\n",
    "DON'T MODIFY ANYTHING IN THIS CELL THAT IS BELOW THIS LINE\n",
    "\"\"\"\n",
    "tests.test_build_nn(build_nn)"
   ]
  },
  {
   "cell_type": "markdown",
   "metadata": {
    "deletable": true,
    "editable": true
   },
   "source": [
    "### Batches\n",
    "Implement `get_batches` to create batches of input and targets using `int_text`.  The batches should be a Numpy array with the shape `(number of batches, 2, batch size, sequence length)`. Each batch contains two elements:\n",
    "- The first element is a single batch of **input** with the shape `[batch size, sequence length]`\n",
    "- The second element is a single batch of **targets** with the shape `[batch size, sequence length]`\n",
    "\n",
    "If you can't fill the last batch with enough data, drop the last batch.\n",
    "\n",
    "For exmple, `get_batches([1, 2, 3, 4, 5, 6, 7, 8, 9, 10, 11, 12, 13, 14, 15], 2, 3)` would return a Numpy array of the following:\n",
    "```\n",
    "[\n",
    "  # First Batch\n",
    "  [\n",
    "    # Batch of Input\n",
    "    [[ 1  2  3], [ 7  8  9]],\n",
    "    # Batch of targets\n",
    "    [[ 2  3  4], [ 8  9 10]]\n",
    "  ],\n",
    " \n",
    "  # Second Batch\n",
    "  [\n",
    "    # Batch of Input\n",
    "    [[ 4  5  6], [10 11 12]],\n",
    "    # Batch of targets\n",
    "    [[ 5  6  7], [11 12 13]]\n",
    "  ]\n",
    "]\n",
    "```"
   ]
  },
  {
   "cell_type": "code",
   "execution_count": 8,
   "metadata": {
    "collapsed": false,
    "deletable": true,
    "editable": true
   },
   "outputs": [
    {
     "name": "stdout",
     "output_type": "stream",
     "text": [
      "Tests Passed\n"
     ]
    }
   ],
   "source": [
    "def get_batches(int_text, batch_size, seq_length):\n",
    "    \"\"\"\n",
    "    Return batches of input and target\n",
    "    :param int_text: Text with the words replaced by their ids\n",
    "    :param batch_size: The size of batch\n",
    "    :param seq_length: The length of sequence\n",
    "    :return: Batches as a Numpy array\n",
    "    \"\"\"\n",
    "    # TODO: Implement Function\n",
    "    n_batches = int(len(int_text)/(batch_size*seq_length))\n",
    "    \n",
    "    x=np.array(int_text[:n_batches*batch_size*seq_length])\n",
    "    y=np.array(int_text[1:n_batches*batch_size*seq_length+1])\n",
    "    \n",
    "    inputs = np.split(x.reshape(batch_size, -1), n_batches,1)\n",
    "    targets = np.split(y.reshape(batch_size, -1), n_batches, 1)\n",
    "    \n",
    "    return np.array(list(zip(inputs, targets)))\n",
    "\n",
    "\n",
    "\"\"\"\n",
    "DON'T MODIFY ANYTHING IN THIS CELL THAT IS BELOW THIS LINE\n",
    "\"\"\"\n",
    "tests.test_get_batches(get_batches)"
   ]
  },
  {
   "cell_type": "markdown",
   "metadata": {
    "deletable": true,
    "editable": true
   },
   "source": [
    "## Neural Network Training\n",
    "### Hyperparameters\n",
    "Tune the following parameters:\n",
    "\n",
    "- Set `num_epochs` to the number of epochs.\n",
    "- Set `batch_size` to the batch size.\n",
    "- Set `rnn_size` to the size of the RNNs.\n",
    "- Set `seq_length` to the length of sequence.\n",
    "- Set `learning_rate` to the learning rate.\n",
    "- Set `show_every_n_batches` to the number of batches the neural network should print progress."
   ]
  },
  {
   "cell_type": "code",
   "execution_count": 12,
   "metadata": {
    "collapsed": true,
    "deletable": true,
    "editable": true
   },
   "outputs": [],
   "source": [
    "# Number of Epochs\n",
    "num_epochs = 25\n",
    "# Batch Size\n",
    "batch_size = 128\n",
    "# RNN Size\n",
    "rnn_size = 512\n",
    "# Sequence Length\n",
    "seq_length = 20\n",
    "# Learning Rate\n",
    "learning_rate = 0.001\n",
    "# Show stats for every n number of batches\n",
    "show_every_n_batches = 5\n",
    "\n",
    "\"\"\"\n",
    "DON'T MODIFY ANYTHING IN THIS CELL THAT IS BELOW THIS LINE\n",
    "\"\"\"\n",
    "save_dir = './save'"
   ]
  },
  {
   "cell_type": "markdown",
   "metadata": {
    "deletable": true,
    "editable": true
   },
   "source": [
    "### Build the Graph\n",
    "Build the graph using the neural network you implemented."
   ]
  },
  {
   "cell_type": "code",
   "execution_count": 13,
   "metadata": {
    "collapsed": false,
    "deletable": true,
    "editable": true
   },
   "outputs": [],
   "source": [
    "\"\"\"\n",
    "DON'T MODIFY ANYTHING IN THIS CELL\n",
    "\"\"\"\n",
    "from tensorflow.contrib import seq2seq\n",
    "\n",
    "train_graph = tf.Graph()\n",
    "with train_graph.as_default():\n",
    "    vocab_size = len(int_to_vocab)\n",
    "    input_text, targets, lr = get_inputs()\n",
    "    input_data_shape = tf.shape(input_text)\n",
    "    cell, initial_state = get_init_cell(input_data_shape[0], rnn_size)\n",
    "    logits, final_state = build_nn(cell, rnn_size, input_text, vocab_size)\n",
    "\n",
    "    # Probabilities for generating words\n",
    "    probs = tf.nn.softmax(logits, name='probs')\n",
    "\n",
    "    # Loss function\n",
    "    cost = seq2seq.sequence_loss(\n",
    "        logits,\n",
    "        targets,\n",
    "        tf.ones([input_data_shape[0], input_data_shape[1]]))\n",
    "\n",
    "    # Optimizer\n",
    "    optimizer = tf.train.AdamOptimizer(lr)\n",
    "\n",
    "    # Gradient Clipping\n",
    "    gradients = optimizer.compute_gradients(cost)\n",
    "    capped_gradients = [(tf.clip_by_value(grad, -1., 1.), var) for grad, var in gradients]\n",
    "    train_op = optimizer.apply_gradients(capped_gradients)"
   ]
  },
  {
   "cell_type": "markdown",
   "metadata": {
    "deletable": true,
    "editable": true
   },
   "source": [
    "## Train\n",
    "Train the neural network on the preprocessed data.  If you have a hard time getting a good loss, check the [forms](https://discussions.udacity.com/) to see if anyone is having the same problem."
   ]
  },
  {
   "cell_type": "code",
   "execution_count": 14,
   "metadata": {
    "collapsed": false,
    "deletable": true,
    "editable": true
   },
   "outputs": [
    {
     "name": "stdout",
     "output_type": "stream",
     "text": [
      "Epoch   0 Batch    0/26   train_loss = 8.820\n",
      "Epoch   0 Batch    5/26   train_loss = 7.289\n",
      "Epoch   0 Batch   10/26   train_loss = 6.547\n",
      "Epoch   0 Batch   15/26   train_loss = 6.166\n",
      "Epoch   0 Batch   20/26   train_loss = 6.278\n",
      "Epoch   0 Batch   25/26   train_loss = 6.148\n",
      "Epoch   1 Batch    4/26   train_loss = 5.932\n",
      "Epoch   1 Batch    9/26   train_loss = 5.946\n",
      "Epoch   1 Batch   14/26   train_loss = 5.756\n",
      "Epoch   1 Batch   19/26   train_loss = 5.799\n",
      "Epoch   1 Batch   24/26   train_loss = 5.807\n",
      "Epoch   2 Batch    3/26   train_loss = 5.689\n",
      "Epoch   2 Batch    8/26   train_loss = 5.587\n",
      "Epoch   2 Batch   13/26   train_loss = 5.587\n",
      "Epoch   2 Batch   18/26   train_loss = 5.500\n",
      "Epoch   2 Batch   23/26   train_loss = 5.612\n",
      "Epoch   3 Batch    2/26   train_loss = 5.366\n",
      "Epoch   3 Batch    7/26   train_loss = 5.453\n",
      "Epoch   3 Batch   12/26   train_loss = 5.474\n",
      "Epoch   3 Batch   17/26   train_loss = 5.290\n",
      "Epoch   3 Batch   22/26   train_loss = 5.154\n",
      "Epoch   4 Batch    1/26   train_loss = 5.239\n",
      "Epoch   4 Batch    6/26   train_loss = 5.242\n",
      "Epoch   4 Batch   11/26   train_loss = 5.093\n",
      "Epoch   4 Batch   16/26   train_loss = 5.103\n",
      "Epoch   4 Batch   21/26   train_loss = 5.002\n",
      "Epoch   5 Batch    0/26   train_loss = 5.011\n",
      "Epoch   5 Batch    5/26   train_loss = 4.956\n",
      "Epoch   5 Batch   10/26   train_loss = 4.940\n",
      "Epoch   5 Batch   15/26   train_loss = 4.800\n",
      "Epoch   5 Batch   20/26   train_loss = 4.926\n",
      "Epoch   5 Batch   25/26   train_loss = 4.846\n",
      "Epoch   6 Batch    4/26   train_loss = 4.839\n",
      "Epoch   6 Batch    9/26   train_loss = 4.919\n",
      "Epoch   6 Batch   14/26   train_loss = 4.703\n",
      "Epoch   6 Batch   19/26   train_loss = 4.811\n",
      "Epoch   6 Batch   24/26   train_loss = 4.751\n",
      "Epoch   7 Batch    3/26   train_loss = 4.720\n",
      "Epoch   7 Batch    8/26   train_loss = 4.631\n",
      "Epoch   7 Batch   13/26   train_loss = 4.663\n",
      "Epoch   7 Batch   18/26   train_loss = 4.605\n",
      "Epoch   7 Batch   23/26   train_loss = 4.688\n",
      "Epoch   8 Batch    2/26   train_loss = 4.518\n",
      "Epoch   8 Batch    7/26   train_loss = 4.637\n",
      "Epoch   8 Batch   12/26   train_loss = 4.633\n",
      "Epoch   8 Batch   17/26   train_loss = 4.523\n",
      "Epoch   8 Batch   22/26   train_loss = 4.361\n",
      "Epoch   9 Batch    1/26   train_loss = 4.465\n",
      "Epoch   9 Batch    6/26   train_loss = 4.507\n",
      "Epoch   9 Batch   11/26   train_loss = 4.364\n",
      "Epoch   9 Batch   16/26   train_loss = 4.378\n",
      "Epoch   9 Batch   21/26   train_loss = 4.251\n",
      "Epoch  10 Batch    0/26   train_loss = 4.311\n",
      "Epoch  10 Batch    5/26   train_loss = 4.279\n",
      "Epoch  10 Batch   10/26   train_loss = 4.268\n",
      "Epoch  10 Batch   15/26   train_loss = 4.177\n",
      "Epoch  10 Batch   20/26   train_loss = 4.246\n",
      "Epoch  10 Batch   25/26   train_loss = 4.177\n",
      "Epoch  11 Batch    4/26   train_loss = 4.244\n",
      "Epoch  11 Batch    9/26   train_loss = 4.258\n",
      "Epoch  11 Batch   14/26   train_loss = 4.078\n",
      "Epoch  11 Batch   19/26   train_loss = 4.248\n",
      "Epoch  11 Batch   24/26   train_loss = 4.142\n",
      "Epoch  12 Batch    3/26   train_loss = 4.165\n",
      "Epoch  12 Batch    8/26   train_loss = 4.091\n",
      "Epoch  12 Batch   13/26   train_loss = 4.109\n",
      "Epoch  12 Batch   18/26   train_loss = 4.091\n",
      "Epoch  12 Batch   23/26   train_loss = 4.082\n",
      "Epoch  13 Batch    2/26   train_loss = 3.989\n",
      "Epoch  13 Batch    7/26   train_loss = 4.070\n",
      "Epoch  13 Batch   12/26   train_loss = 4.098\n",
      "Epoch  13 Batch   17/26   train_loss = 3.953\n",
      "Epoch  13 Batch   22/26   train_loss = 3.824\n",
      "Epoch  14 Batch    1/26   train_loss = 3.900\n",
      "Epoch  14 Batch    6/26   train_loss = 3.984\n",
      "Epoch  14 Batch   11/26   train_loss = 3.818\n",
      "Epoch  14 Batch   16/26   train_loss = 3.817\n",
      "Epoch  14 Batch   21/26   train_loss = 3.747\n",
      "Epoch  15 Batch    0/26   train_loss = 3.739\n",
      "Epoch  15 Batch    5/26   train_loss = 3.764\n",
      "Epoch  15 Batch   10/26   train_loss = 3.707\n",
      "Epoch  15 Batch   15/26   train_loss = 3.638\n",
      "Epoch  15 Batch   20/26   train_loss = 3.735\n",
      "Epoch  15 Batch   25/26   train_loss = 3.673\n",
      "Epoch  16 Batch    4/26   train_loss = 3.687\n",
      "Epoch  16 Batch    9/26   train_loss = 3.708\n",
      "Epoch  16 Batch   14/26   train_loss = 3.609\n",
      "Epoch  16 Batch   19/26   train_loss = 3.633\n",
      "Epoch  16 Batch   24/26   train_loss = 3.621\n",
      "Epoch  17 Batch    3/26   train_loss = 3.693\n",
      "Epoch  17 Batch    8/26   train_loss = 3.611\n",
      "Epoch  17 Batch   13/26   train_loss = 3.601\n",
      "Epoch  17 Batch   18/26   train_loss = 3.595\n",
      "Epoch  17 Batch   23/26   train_loss = 3.598\n",
      "Epoch  18 Batch    2/26   train_loss = 3.505\n",
      "Epoch  18 Batch    7/26   train_loss = 3.581\n",
      "Epoch  18 Batch   12/26   train_loss = 3.662\n",
      "Epoch  18 Batch   17/26   train_loss = 3.470\n",
      "Epoch  18 Batch   22/26   train_loss = 3.362\n",
      "Epoch  19 Batch    1/26   train_loss = 3.398\n",
      "Epoch  19 Batch    6/26   train_loss = 3.471\n",
      "Epoch  19 Batch   11/26   train_loss = 3.355\n",
      "Epoch  19 Batch   16/26   train_loss = 3.367\n",
      "Epoch  19 Batch   21/26   train_loss = 3.241\n",
      "Epoch  20 Batch    0/26   train_loss = 3.255\n",
      "Epoch  20 Batch    5/26   train_loss = 3.319\n",
      "Epoch  20 Batch   10/26   train_loss = 3.245\n",
      "Epoch  20 Batch   15/26   train_loss = 3.206\n",
      "Epoch  20 Batch   20/26   train_loss = 3.240\n",
      "Epoch  20 Batch   25/26   train_loss = 3.144\n",
      "Epoch  21 Batch    4/26   train_loss = 3.258\n",
      "Epoch  21 Batch    9/26   train_loss = 3.238\n",
      "Epoch  21 Batch   14/26   train_loss = 3.129\n",
      "Epoch  21 Batch   19/26   train_loss = 3.175\n",
      "Epoch  21 Batch   24/26   train_loss = 3.090\n",
      "Epoch  22 Batch    3/26   train_loss = 3.176\n",
      "Epoch  22 Batch    8/26   train_loss = 3.131\n",
      "Epoch  22 Batch   13/26   train_loss = 3.072\n",
      "Epoch  22 Batch   18/26   train_loss = 3.116\n",
      "Epoch  22 Batch   23/26   train_loss = 3.064\n",
      "Epoch  23 Batch    2/26   train_loss = 3.032\n",
      "Epoch  23 Batch    7/26   train_loss = 3.065\n",
      "Epoch  23 Batch   12/26   train_loss = 3.087\n",
      "Epoch  23 Batch   17/26   train_loss = 2.993\n",
      "Epoch  23 Batch   22/26   train_loss = 2.890\n",
      "Epoch  24 Batch    1/26   train_loss = 2.906\n",
      "Epoch  24 Batch    6/26   train_loss = 3.025\n",
      "Epoch  24 Batch   11/26   train_loss = 2.957\n",
      "Epoch  24 Batch   16/26   train_loss = 2.874\n",
      "Epoch  24 Batch   21/26   train_loss = 2.853\n",
      "Model Trained and Saved\n"
     ]
    }
   ],
   "source": [
    "\"\"\"\n",
    "DON'T MODIFY ANYTHING IN THIS CELL\n",
    "\"\"\"\n",
    "batches = get_batches(int_text, batch_size, seq_length)\n",
    "\n",
    "with tf.Session(graph=train_graph) as sess:\n",
    "    sess.run(tf.global_variables_initializer())\n",
    "\n",
    "    for epoch_i in range(num_epochs):\n",
    "        state = sess.run(initial_state, {input_text: batches[0][0]})\n",
    "\n",
    "        for batch_i, (x, y) in enumerate(batches):\n",
    "            feed = {\n",
    "                input_text: x,\n",
    "                targets: y,\n",
    "                initial_state: state,\n",
    "                lr: learning_rate}\n",
    "            train_loss, state, _ = sess.run([cost, final_state, train_op], feed)\n",
    "\n",
    "            # Show every <show_every_n_batches> batches\n",
    "            if (epoch_i * len(batches) + batch_i) % show_every_n_batches == 0:\n",
    "                print('Epoch {:>3} Batch {:>4}/{}   train_loss = {:.3f}'.format(\n",
    "                    epoch_i,\n",
    "                    batch_i,\n",
    "                    len(batches),\n",
    "                    train_loss))\n",
    "\n",
    "    # Save Model\n",
    "    saver = tf.train.Saver()\n",
    "    saver.save(sess, save_dir)\n",
    "    print('Model Trained and Saved')"
   ]
  },
  {
   "cell_type": "markdown",
   "metadata": {
    "deletable": true,
    "editable": true
   },
   "source": [
    "## Save Parameters\n",
    "Save `seq_length` and `save_dir` for generating a new TV script."
   ]
  },
  {
   "cell_type": "code",
   "execution_count": 15,
   "metadata": {
    "collapsed": false,
    "deletable": true,
    "editable": true
   },
   "outputs": [],
   "source": [
    "\"\"\"\n",
    "DON'T MODIFY ANYTHING IN THIS CELL\n",
    "\"\"\"\n",
    "# Save parameters for checkpoint\n",
    "helper.save_params((seq_length, save_dir))"
   ]
  },
  {
   "cell_type": "markdown",
   "metadata": {
    "deletable": true,
    "editable": true
   },
   "source": [
    "# Checkpoint"
   ]
  },
  {
   "cell_type": "code",
   "execution_count": 16,
   "metadata": {
    "collapsed": false,
    "deletable": true,
    "editable": true
   },
   "outputs": [],
   "source": [
    "\"\"\"\n",
    "DON'T MODIFY ANYTHING IN THIS CELL\n",
    "\"\"\"\n",
    "import tensorflow as tf\n",
    "import numpy as np\n",
    "import helper\n",
    "import problem_unittests as tests\n",
    "\n",
    "_, vocab_to_int, int_to_vocab, token_dict = helper.load_preprocess()\n",
    "seq_length, load_dir = helper.load_params()"
   ]
  },
  {
   "cell_type": "markdown",
   "metadata": {
    "deletable": true,
    "editable": true
   },
   "source": [
    "## Implement Generate Functions\n",
    "### Get Tensors\n",
    "Get tensors from `loaded_graph` using the function [`get_tensor_by_name()`](https://www.tensorflow.org/api_docs/python/tf/Graph#get_tensor_by_name).  Get the tensors using the following names:\n",
    "- \"input:0\"\n",
    "- \"initial_state:0\"\n",
    "- \"final_state:0\"\n",
    "- \"probs:0\"\n",
    "\n",
    "Return the tensors in the following tuple `(InputTensor, InitialStateTensor, FinalStateTensor, ProbsTensor)` "
   ]
  },
  {
   "cell_type": "code",
   "execution_count": 18,
   "metadata": {
    "collapsed": false,
    "deletable": true,
    "editable": true
   },
   "outputs": [
    {
     "name": "stdout",
     "output_type": "stream",
     "text": [
      "Tests Passed\n"
     ]
    }
   ],
   "source": [
    "def get_tensors(loaded_graph):\n",
    "    \"\"\"\n",
    "    Get input, initial state, final state, and probabilities tensor from <loaded_graph>\n",
    "    :param loaded_graph: TensorFlow graph loaded from file\n",
    "    :return: Tuple (InputTensor, InitialStateTensor, FinalStateTensor, ProbsTensor)\n",
    "    \"\"\"\n",
    "    # TODO: Implement Function\n",
    "    input_tensor = loaded_graph.get_tensor_by_name(\"input:0\")\n",
    "    initial_state_tensor = loaded_graph.get_tensor_by_name(\"initial_state:0\")\n",
    "    final_state_tensor = loaded_graph.get_tensor_by_name(\"final_state:0\")\n",
    "    probs_tensor = loaded_graph.get_tensor_by_name(\"probs:0\")\n",
    "    return input_tensor, initial_state_tensor, final_state_tensor, probs_tensor\n",
    "\n",
    "\n",
    "\"\"\"\n",
    "DON'T MODIFY ANYTHING IN THIS CELL THAT IS BELOW THIS LINE\n",
    "\"\"\"\n",
    "tests.test_get_tensors(get_tensors)"
   ]
  },
  {
   "cell_type": "markdown",
   "metadata": {
    "deletable": true,
    "editable": true
   },
   "source": [
    "### Choose Word\n",
    "Implement the `pick_word()` function to select the next word using `probabilities`."
   ]
  },
  {
   "cell_type": "code",
   "execution_count": 19,
   "metadata": {
    "collapsed": false,
    "deletable": true,
    "editable": true
   },
   "outputs": [
    {
     "name": "stdout",
     "output_type": "stream",
     "text": [
      "Tests Passed\n"
     ]
    }
   ],
   "source": [
    "def pick_word(probabilities, int_to_vocab):\n",
    "    \"\"\"\n",
    "    Pick the next word in the generated text\n",
    "    :param probabilities: Probabilites of the next word\n",
    "    :param int_to_vocab: Dictionary of word ids as the keys and words as the values\n",
    "    :return: String of the predicted word\n",
    "    \"\"\"\n",
    "    # TODO: Implement Function\n",
    "    random_number = np.random.choice(len(probabilities), p=probabilities)\n",
    "    return int_to_vocab[random_number]\n",
    "\n",
    "\n",
    "\"\"\"\n",
    "DON'T MODIFY ANYTHING IN THIS CELL THAT IS BELOW THIS LINE\n",
    "\"\"\"\n",
    "tests.test_pick_word(pick_word)"
   ]
  },
  {
   "cell_type": "markdown",
   "metadata": {
    "deletable": true,
    "editable": true
   },
   "source": [
    "## Generate TV Script\n",
    "This will generate the TV script for you.  Set `gen_length` to the length of TV script you want to generate."
   ]
  },
  {
   "cell_type": "code",
   "execution_count": 21,
   "metadata": {
    "collapsed": false,
    "deletable": true,
    "editable": true
   },
   "outputs": [
    {
     "name": "stdout",
     "output_type": "stream",
     "text": [
      "moe_szyslak: hey, you mean that, barn.\n",
      "\n",
      "\n",
      "homer_simpson:(small fondly) gee, c'mon, handsome, moe. have it?\n",
      "homer_simpson:(singing) and my god, a options their face!\n",
      "bart_simpson:(to a sings) can i just get some once ago simpson...\n",
      "adult_bart: hooray you!\n",
      "carl_carlson:(to resist, but loud) that's wealthy, eh, get ya is--\n",
      "lisa_simpson:(intrigued, homer) yeah, and i blame it, moe.\n",
      "homer_simpson:(chuckles) ah, it's called twenty here, cash.(warmly) really might bring baseball pretending she pulled.\n",
      "lenny_leonard:(kindly) all old back!\n",
      "moe_szyslak: take that, it am.\n",
      "eddie:(toasting) is 'em a appropriate in here, it's such a ticket.\n",
      "homer_simpson: i wouldn't you girls sober in here?\n",
      "artie_ziff: woo! / want tv! / goodbye my moron for has going grand!\n",
      "moe_szyslak: that poor measure in your estranged dating for the kind of change. e with your first of this bar, uh, here.\n",
      "kirk_van_houten: you, who? you said what happened?\n",
      "marge_simpson:(shrugging) eh, president donut.\n",
      "professor_jonathan_frink: well you're up, moe! ow! and there's a sausage of a hits face, throwing!\n",
      "moe_szyslak: still is me! for this beer, buffalo of by private hats!\n",
      "moe_szyslak: that'll attack thighs and-- celebrities, check! pigtown! / yo! / mmmm! / while oh, what are you a happy of a new avenue in make killed think when i could he'd hear to tell you.\n",
      "moe_szyslak:(intelligent) fbi, i want to cover.\n",
      "football_announcer: at the glasses of nineteen--(normal) ooh of there!\n",
      "homer_simpson:(singing sound) sure on me! he actually is!\n",
      "\n",
      "\n",
      "c. _montgomery_burns: unfortunately from here is a big eye!\n",
      "homer_simpson: you got this... c. _hooper: three...\n",
      "marge_simpson:(reentering) oh, i got when.\n",
      "barney_gumble: hey, hey, homer. just not your father's on because when we've cover.\n",
      "new_health_inspector: dallas of phone, infestation, tsk, linin'.\n",
      "\n",
      "\n",
      "david_byrne: punches, please, he kiddin'. we'd day.\n",
      "homer_simpson:(recorded) self-made poor... thank..(quickly) gr-aargh of a sensible conversation, liberty's canyonero.\n",
      "homer_simpson: i told you newsies. my dramatic!\n",
      "moe_szyslak:(tense) achem!\n",
      "\n",
      "\n",
      "moe_szyslak: well, okay, have the peanuts, plus now!\n",
      "moe_szyslak: padre, accept burning two arm labels to make you.\n",
      "moe_szyslak:(nods) whaddaya just during games since me, homer. anyhoo.!\n",
      "lenny_leonard:(ringing playing) oh, wrote.\n",
      "moe_szyslak:(sheepish) ah, jane skinner, curds.\n",
      "homer_simpson:(kindly) moe, you want to prove you or out.\n",
      "moe_szyslak: what's the mr...(rapidly)\n",
      "homer_simpson: hello, i never want to workin' on and we're drunk.\n",
      "\n",
      "\n",
      "crowd:(excited) oh, hi. / for all here, men's highway for a mr. and she's shooting him over, and who am you?\n",
      "homer_simpson: and he are?\n",
      "homer_simpson:(woozy) your daughter! i'm a pal!\n",
      "seymour_skinner: well, joey is to play it!\n",
      "carl_carlson:(to barflies) see, moe. i'll blame to you...\n",
      "homer_simpson:(warmly) come to the tab!\n",
      "homer_simpson:(to bar) my god, eh?\n",
      "homer_simpson: well, i created it!(looking around, then, sounds) we might yew... yap.\n",
      "formico: barney, we're a love-matic loser?\n",
      "fire_inspector: my touchdown on our perfect! oh, i'm a duff you're a world in a man!\n",
      "louie: are! james senators:! i'm-so-stupid!\n",
      "moe_szyslak:(excited, then, then) are, please, private about!\n",
      "crowd: to a dog noise!\n",
      "moe_szyslak: yeah, get always in ya moe-heads!\n",
      "\n",
      "\n",
      "moe_szyslak: goodnight, moe, not it.\n",
      "detective_homer_simpson:(to arm, considering:) h...\n",
      "billy_the_kid:, for me! eh! / see! / warranty!! then!\n",
      "lenny_leonard: aw, there's artie!\n",
      "\n",
      "\n",
      "moe_szyslak: uhhhh, i've got us with this bag?\n",
      "lenny_leonard: how moe are 'bout doin' on a pad, live 'em jukebox.\n",
      "ned_flanders: here you all sadder and guys, please!\n",
      "homer_simpson: what's a matter, homer?\n",
      "duffman:(to look) what's that, moe, and i'm just a date!\n",
      "homer_simpson:(singing/pushing) now right, ya are.\n",
      "moe_szyslak:(angrily) minimum tony!!\n",
      "quiet(quickly) uncreeped-out! /! / good of commission!\n",
      "moe_szyslak: pfft, here-- s. / mmmm, sits, jer.\n",
      "carl_carlson: despite a beer, pal.\n",
      "homer_simpson: you better comes! free of here!\n",
      "carl_carlson:(sarcastic) oh, come..(dashes from)\n",
      "\n",
      "\n",
      "barney_gumble: now, i'd go to a glum with this beard mr for a man. so i'm a stupid bye will i\n"
     ]
    }
   ],
   "source": [
    "gen_length = 1000\n",
    "# homer_simpson, moe_szyslak, or Barney_Gumble\n",
    "prime_word = 'moe_szyslak'\n",
    "\n",
    "\"\"\"\n",
    "DON'T MODIFY ANYTHING IN THIS CELL THAT IS BELOW THIS LINE\n",
    "\"\"\"\n",
    "loaded_graph = tf.Graph()\n",
    "with tf.Session(graph=loaded_graph) as sess:\n",
    "    # Load saved model\n",
    "    loader = tf.train.import_meta_graph(load_dir + '.meta')\n",
    "    loader.restore(sess, load_dir)\n",
    "\n",
    "    # Get Tensors from loaded model\n",
    "    input_text, initial_state, final_state, probs = get_tensors(loaded_graph)\n",
    "\n",
    "    # Sentences generation setup\n",
    "    gen_sentences = [prime_word + ':']\n",
    "    prev_state = sess.run(initial_state, {input_text: np.array([[1]])})\n",
    "\n",
    "    # Generate sentences\n",
    "    for n in range(gen_length):\n",
    "        # Dynamic Input\n",
    "        dyn_input = [[vocab_to_int[word] for word in gen_sentences[-seq_length:]]]\n",
    "        dyn_seq_length = len(dyn_input[0])\n",
    "\n",
    "        # Get Prediction\n",
    "        probabilities, prev_state = sess.run(\n",
    "            [probs, final_state],\n",
    "            {input_text: dyn_input, initial_state: prev_state})\n",
    "        \n",
    "        pred_word = pick_word(probabilities[dyn_seq_length-1], int_to_vocab)\n",
    "\n",
    "        gen_sentences.append(pred_word)\n",
    "    \n",
    "    # Remove tokens\n",
    "    tv_script = ' '.join(gen_sentences)\n",
    "    for key, token in token_dict.items():\n",
    "        ending = ' ' if key in ['\\n', '(', '\"'] else ''\n",
    "        tv_script = tv_script.replace(' ' + token.lower(), key)\n",
    "    tv_script = tv_script.replace('\\n ', '\\n')\n",
    "    tv_script = tv_script.replace('( ', '(')\n",
    "        \n",
    "    print(tv_script)"
   ]
  },
  {
   "cell_type": "markdown",
   "metadata": {
    "deletable": true,
    "editable": true
   },
   "source": [
    "# The TV Script is Nonsensical\n",
    "It's ok if the TV script doesn't make any sense.  We trained on less than a megabyte of text.  In order to get good results, you'll have to use a smaller vocabulary or get more data.  Luckly there's more data!  As we mentioned in the begging of this project, this is a subset of [another dataset](https://www.kaggle.com/wcukierski/the-simpsons-by-the-data).  We didn't have you train on all the data, because that would take too long.  However, you are free to train your neural network on all the data.  After you complete the project, of course.\n",
    "# Submitting This Project\n",
    "When submitting this project, make sure to run all the cells before saving the notebook. Save the notebook file as \"dlnd_tv_script_generation.ipynb\" and save it as a HTML file under \"File\" -> \"Download as\". Include the \"helper.py\" and \"problem_unittests.py\" files in your submission."
   ]
  }
 ],
 "metadata": {
  "kernelspec": {
   "display_name": "Python 3",
   "language": "python",
   "name": "python3"
  },
  "language_info": {
   "codemirror_mode": {
    "name": "ipython",
    "version": 3
   },
   "file_extension": ".py",
   "mimetype": "text/x-python",
   "name": "python",
   "nbconvert_exporter": "python",
   "pygments_lexer": "ipython3",
   "version": "3.5.3"
  },
  "widgets": {
   "state": {},
   "version": "1.1.2"
  }
 },
 "nbformat": 4,
 "nbformat_minor": 0
}
